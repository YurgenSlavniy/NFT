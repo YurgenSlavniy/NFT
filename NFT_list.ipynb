{
 "cells": [
  {
   "cell_type": "markdown",
   "id": "7a4fddef",
   "metadata": {},
   "source": [
    "# Словарь со всеми биржами"
   ]
  },
  {
   "cell_type": "code",
   "execution_count": 14,
   "id": "29d53f2a",
   "metadata": {},
   "outputs": [],
   "source": [
    "all_tradelist = [{'marketplace':'OpenSea',\n",
    "                'plarform':['ETH', 'Polygon'],\n",
    "                'site':'https://opensea.io/'}, \n",
    "                 \n",
    "                {'marketplace':'Rarible',\n",
    "                'plarform':['ETH'],\n",
    "                'site':'https://rarible.com/'}, \n",
    "                 \n",
    "                {'marketplace':'Myth Market',\n",
    "                'plarform':['WAX'],\n",
    "                'site':'https://myth.market/'},\n",
    "                 \n",
    "                {'marketplace':'Nifty Gateway',\n",
    "                'plarform':['ETH'],\n",
    "                'site':'https://niftygateway.com/'},\n",
    "                 \n",
    "                                  \n",
    "                {'marketplace':'SuperRare',\n",
    "                'plarform':['ETH'],\n",
    "                'site':'https://superrare.com/'},\n",
    "                 \n",
    "                                  \n",
    "                {'marketplace':'Foundation',\n",
    "                'plarform':['ETH'],\n",
    "                'site':'https://foundation.app/'},\n",
    "                 \n",
    "                                  \n",
    "                {'marketplace':'Atomic Market',\n",
    "                'plarform':['WAX'],\n",
    "                'site':'https://wax.atomicmarket.io/'},\n",
    "                                  \n",
    "                {'marketplace':'Bakery Swap',\n",
    "                'plarform':['BSC'],\n",
    "                'site':'https://www.bakeryswap.org/'},\n",
    "                 \n",
    "                                  \n",
    "                {'marketplace':'Known Origin',\n",
    "                'plarform':['ETH'],\n",
    "                'site':'https://knownorigin.io/'},\n",
    "                 \n",
    "                 {'marketplace':'Known Origin',\n",
    "                'plarform':['ETH'],\n",
    "                'site':'https://knownorigin.io/'},\n",
    "                 \n",
    "                 {'marketplace':'Enjin Marketplace',\n",
    "                'plarform':['Enjin', 'ENJ'],\n",
    "                'site':'https://enjin.io/software/marketplace'},\n",
    "                 \n",
    "                 {'marketplace':'Portion',\n",
    "                'plarform':['ETH'],\n",
    "                'site':'https://portion.io/'},\n",
    "                 \n",
    "                 {'marketplace':'Async Art',\n",
    "                'plarform':['ETH'],\n",
    "                'site':'https://async.art/'},\n",
    "                 \n",
    "                 {'marketplace':'MakersPlace',\n",
    "                'plarform':['ETH'],\n",
    "                'site':'https://makersplace.com/'},\n",
    "                 \n",
    "                 {'marketplace':'Mintable',\n",
    "                'plarform':['ETH'],\n",
    "                'site':'https://mintable.app/'},\n",
    "                 \n",
    "                 {'marketplace':'Decentraland',\n",
    "                'plarform':['ETH'],\n",
    "                'site':'https://decentraland.org/'},\n",
    "                 \n",
    "                 {'marketplace':'Axie Infinity',\n",
    "                'plarform':['ETH'],\n",
    "                'site':'https://marketplace.axieinfinity.com/'},\n",
    "                 \n",
    "                 {'marketplace':'NBA Top Shot',\n",
    "                'plarform':['FLOW'],\n",
    "                'site':'https://nbatopshot.com/'},\n",
    "                 \n",
    "                 {'marketplace':'Kalamint',\n",
    "                'plarform':['Tezos'],\n",
    "                'site':'https://kalamint.io/'},\n",
    "                 \n",
    "                 {'marketplace':'Hic et Nunc',\n",
    "                'plarform':['Tezos'],\n",
    "                'site':'https://www.hicetnunc.xyz/'},\n",
    "                 \n",
    "                 {'marketplace':'Aavegotchi',\n",
    "                'plarform':['ETH', 'Aave', 'Polygon'],\n",
    "                'site':'https://aavegotchi.com/'},\n",
    "                 \n",
    "                 {'marketplace':'NFT ShowRoom',\n",
    "                'plarform':['Hive Blockchain'],\n",
    "                'site':'https://aavegotchi.com/'},\n",
    "                 \n",
    "                 {'marketplace':'Aavegotchi',\n",
    "                'plarform':['ETH', 'Aave', 'Polygon'],\n",
    "                'site':'https://nftshowroom.com/'},\n",
    "                 \n",
    "                 {'marketplace':'Zora',\n",
    "                'plarform':['ETH'],\n",
    "                'site':'https://ghostmarket.io/'},\n",
    "                 \n",
    "                 {'marketplace':'Ghost Market',\n",
    "                'plarform':['NEO', 'Phantasma', 'Polygon', 'BSC', 'ETH'],\n",
    "                'site':'https://ghostmarket.io/'},\n",
    "                 \n",
    "                 {'marketplace':'Arkane Market – Venly',\n",
    "                'plarform':['BSC', 'Polygon'],\n",
    "                'site':'https://venly.market/'},\n",
    "                 \n",
    "                 {'marketplace':'TreasureLand',\n",
    "                'plarform':['Binance Smart Chain'],\n",
    "                'site':'https://treasureland.market/'},\n",
    "                 \n",
    "                 {'marketplace':'Viv3',\n",
    "                'plarform':['FLOW'],\n",
    "                'site':'https://viv3.com/'},\n",
    "                 \n",
    "                 {'marketplace':'Valuables',\n",
    "                'plarform':['ETH'],\n",
    "                'site':'https://v.cent.co'},\n",
    "                 \n",
    "                 {'marketplace':'Mintbase',\n",
    "                'plarform':['Arweave'],\n",
    "                'site':'https://www.mintbase.io/'},\n",
    "                 \n",
    "                 {'marketplace':'Terra Virtua',\n",
    "                'plarform':['None'],\n",
    "                'site':'https://terravirtua.io/'},\n",
    "                 \n",
    "                 {'marketplace':'LooksRare',\n",
    "                'plarform':['ETH'],\n",
    "                'site':'https://looksrare.org/'},\n",
    "                 \n",
    "                 {'marketplace':'RelictumNFT',\n",
    "                'plarform':['USDR', 'GTN'],\n",
    "                'site':'https://relictumnft.market/'},\n",
    "                 \n",
    "                ]"
   ]
  },
  {
   "cell_type": "markdown",
   "id": "24822822",
   "metadata": {},
   "source": [
    "### Создаём сдисок адресов бирж. "
   ]
  },
  {
   "cell_type": "code",
   "execution_count": 29,
   "id": "096c7459",
   "metadata": {},
   "outputs": [],
   "source": [
    "site_list = []\n",
    "for el in all_tradelist:\n",
    "    site_list.append(el[\"site\"])"
   ]
  },
  {
   "cell_type": "code",
   "execution_count": 24,
   "id": "ec38dd5e",
   "metadata": {
    "scrolled": true
   },
   "outputs": [],
   "source": [
    "from lxml import html\n",
    "import requests\n",
    "from pprint import pprint\n",
    "\n",
    "headers = {'User Agent':'Mozilla/5.0 (Windows NT 10.0; Win64; x64) AppleWebKit/537.36 (KHTML, like Gecko) Chrome/109.0.0.0 Safari/537.36'}\n",
    "\n",
    "def response(urls, params):\n",
    "    for url in urls:\n",
    "        response = requests.get(url, headers=params)\n",
    "        print(f'ссылка: {url} - ответ: {response}')"
   ]
  },
  {
   "cell_type": "code",
   "execution_count": 26,
   "id": "e327fa26",
   "metadata": {},
   "outputs": [],
   "source": []
  },
  {
   "cell_type": "code",
   "execution_count": 38,
   "id": "bb1a05e7",
   "metadata": {},
   "outputs": [
    {
     "data": {
      "text/plain": [
       "31"
      ]
     },
     "execution_count": 38,
     "metadata": {},
     "output_type": "execute_result"
    }
   ],
   "source": [
    "new_site_list = site_list[1:]\n",
    "new_site_list.remove('https://www.hicetnunc.xyz/')\n",
    "len(new_site_list)"
   ]
  },
  {
   "cell_type": "code",
   "execution_count": 37,
   "id": "ab6b327b",
   "metadata": {},
   "outputs": [
    {
     "name": "stdout",
     "output_type": "stream",
     "text": [
      "ссылка: https://rarible.com/ - ответ: <Response [200]>\n",
      "ссылка: https://myth.market/ - ответ: <Response [400]>\n",
      "ссылка: https://niftygateway.com/ - ответ: <Response [200]>\n",
      "ссылка: https://superrare.com/ - ответ: <Response [403]>\n",
      "ссылка: https://foundation.app/ - ответ: <Response [200]>\n",
      "ссылка: https://wax.atomicmarket.io/ - ответ: <Response [200]>\n",
      "ссылка: https://www.bakeryswap.org/ - ответ: <Response [200]>\n",
      "ссылка: https://knownorigin.io/ - ответ: <Response [200]>\n",
      "ссылка: https://knownorigin.io/ - ответ: <Response [200]>\n",
      "ссылка: https://enjin.io/software/marketplace - ответ: <Response [200]>\n",
      "ссылка: https://portion.io/ - ответ: <Response [200]>\n",
      "ссылка: https://async.art/ - ответ: <Response [400]>\n",
      "ссылка: https://makersplace.com/ - ответ: <Response [200]>\n",
      "ссылка: https://mintable.app/ - ответ: <Response [200]>\n",
      "ссылка: https://decentraland.org/ - ответ: <Response [200]>\n",
      "ссылка: https://marketplace.axieinfinity.com/ - ответ: <Response [403]>\n",
      "ссылка: https://nbatopshot.com/ - ответ: <Response [200]>\n",
      "ссылка: https://kalamint.io/ - ответ: <Response [403]>\n",
      "ссылка: https://aavegotchi.com/ - ответ: <Response [200]>\n",
      "ссылка: https://aavegotchi.com/ - ответ: <Response [200]>\n",
      "ссылка: https://nftshowroom.com/ - ответ: <Response [200]>\n",
      "ссылка: https://ghostmarket.io/ - ответ: <Response [400]>\n",
      "ссылка: https://ghostmarket.io/ - ответ: <Response [400]>\n",
      "ссылка: https://venly.market/ - ответ: <Response [200]>\n",
      "ссылка: https://treasureland.market/ - ответ: <Response [200]>\n",
      "ссылка: https://viv3.com/ - ответ: <Response [400]>\n",
      "ссылка: https://v.cent.co - ответ: <Response [200]>\n",
      "ссылка: https://www.mintbase.io/ - ответ: <Response [200]>\n",
      "ссылка: https://terravirtua.io/ - ответ: <Response [403]>\n",
      "ссылка: https://looksrare.org/ - ответ: <Response [403]>\n",
      "ссылка: https://relictumnft.market/ - ответ: <Response [200]>\n"
     ]
    }
   ],
   "source": [
    "response(new_site_list, headers)"
   ]
  },
  {
   "cell_type": "code",
   "execution_count": null,
   "id": "f24bf9ef",
   "metadata": {},
   "outputs": [],
   "source": []
  }
 ],
 "metadata": {
  "kernelspec": {
   "display_name": "Python 3 (ipykernel)",
   "language": "python",
   "name": "python3"
  },
  "language_info": {
   "codemirror_mode": {
    "name": "ipython",
    "version": 3
   },
   "file_extension": ".py",
   "mimetype": "text/x-python",
   "name": "python",
   "nbconvert_exporter": "python",
   "pygments_lexer": "ipython3",
   "version": "3.8.8"
  }
 },
 "nbformat": 4,
 "nbformat_minor": 5
}
